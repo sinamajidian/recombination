{
 "cells": [
  {
   "cell_type": "code",
   "execution_count": 36,
   "id": "1d459e50",
   "metadata": {},
   "outputs": [],
   "source": [
    "#!/usr/bin/python3\n",
    "\n",
    "from sys import argv\n",
    "import numpy as np\n",
    "from sklearn.cluster import MeanShift\n",
    "\n",
    "#file_input_sam_address= \"old2/v8h1/snp001_cov20_1/p4/reads_chopped_q1_5cols.sam\"\n",
    "# /work/FAC/FBM/DBC/cdessim2/default/smajidi1/recombination/v10a/t2/p4\n",
    "file_input_project_address= \"/work/FAC/FBM/DBC/cdessim2/default/smajidi1/recombination//v11a/t4/\"\n",
    "file_input_sam_address =  file_input_project_address+ \"p7d/reads_chopped_q1_5cols.sam\" # \"v10a/t11/p4/reads_chopped_q1_5cols.sam\"\n",
    "\n",
    "file_input_mother_phasing_address=  file_input_project_address+ \"var_mother/phased.vcf\"\n",
    "file_input_father_phasing_address=  file_input_project_address+  \"var_father/phased.vcf\"\n",
    "\n",
    "\n",
    "#/reads_chopped_5cols.sam\"\n",
    "\n",
    "#treshold_coverage_breakpoint =  int(argv[2])\n",
    "\n",
    "\n",
    "#/work/FAC/FBM/DBC/cdessim2/default/smajidi1/recombination/v11a/t4/p7d\n",
    "\n",
    "#/work/FAC/FBM/DBC/cdessim2/default/smajidi1/recombination/v11b-chr6\n"
   ]
  },
  {
   "cell_type": "code",
   "execution_count": 24,
   "id": "4144d7a6",
   "metadata": {},
   "outputs": [],
   "source": [
    "\n",
    "\n",
    "file = open(file_input_sam_address,'r');\n",
    "\n",
    "chrom_list_all=[]\n",
    "pos_list_all=[]\n",
    "\n",
    "pos_list= []\n",
    "chrom_list = []\n",
    "read_name_chop_list=[]\n",
    "read_name_root_list=[]\n",
    "previous_read_name_root = 0\n",
    "for line in file:\n",
    "    line_strip = line.strip()  \n",
    "    if line_strip and not line_strip.startswith(\"@\"):\n",
    "        line_split = line_strip.split(\"\\t\")\n",
    "        read_name_chop, flag, chrom, pos, map_qual = line_split\n",
    "        chrom_list_all.append(chrom)\n",
    "        \n",
    "        pos= int(pos)\n",
    "        pos_list_all.append(pos)\n",
    "        read_name_root_splits = read_name_chop.split(\"_\")[:-2]\n",
    "        read_name_root=\"_\".join(read_name_root_splits)\n",
    "        if read_name_root != previous_read_name_root:   #new_record\n",
    "            pos_list.append([pos])\n",
    "            chrom_list.append([chrom[-2:]])\n",
    "            read_name_chop_list.append([read_name_chop])\n",
    "            read_name_root_list.append([read_name_root])\n",
    "        else:\n",
    "            pos_list[-1].append(pos)\n",
    "            chrom_list[-1].append(chrom[-2:])\n",
    "            read_name_chop_list[-1].append(read_name_chop)\n",
    "            read_name_root_list[-1].append(read_name_root)\n",
    "        previous_read_name_root = read_name_root\n",
    "file.close()\n"
   ]
  },
  {
   "cell_type": "code",
   "execution_count": 25,
   "id": "bd2dce8e",
   "metadata": {},
   "outputs": [
    {
     "data": {
      "text/plain": [
       "'haplotype_M2'"
      ]
     },
     "execution_count": 25,
     "metadata": {},
     "output_type": "execute_result"
    }
   ],
   "source": [
    "#chrom_list[:10]\n",
    "chrom_list_all[12230]"
   ]
  },
  {
   "cell_type": "code",
   "execution_count": null,
   "id": "5130e752",
   "metadata": {},
   "outputs": [],
   "source": []
  },
  {
   "cell_type": "code",
   "execution_count": 26,
   "id": "851a279c",
   "metadata": {},
   "outputs": [
    {
     "name": "stdout",
     "output_type": "stream",
     "text": [
      "312499 101367 165702 248189\n"
     ]
    }
   ],
   "source": [
    "count_M1=0; count_M2=0; count_F1=0; count_F2=0;\n",
    "\n",
    "pos1=[]\n",
    "pos2=[]\n",
    "pos3=[]\n",
    "pos4=[]\n",
    "\n",
    "for i in range(len(chrom_list_all)):\n",
    "    \n",
    "    pos = pos_list_all[i]\n",
    "    chrom = chrom_list_all[i]\n",
    "    if chrom[-2:]=='M1':\n",
    "        count_M1+=1\n",
    "        pos1.append(pos)\n",
    "    if chrom[-2:]=='M2':\n",
    "        count_M2+=1\n",
    "        pos2.append(pos)\n",
    "    if chrom[-2:]=='F1':\n",
    "        count_F1+=1\n",
    "        pos3.append(pos)\n",
    "    if chrom[-2:]=='F2':\n",
    "        count_F2+=1\n",
    "        pos4.append(pos)\n",
    "        \n",
    "print(count_M1,count_M2,count_F1,count_F2)"
   ]
  },
  {
   "cell_type": "code",
   "execution_count": 7,
   "id": "ce7be0e8",
   "metadata": {},
   "outputs": [],
   "source": [
    "#pos2"
   ]
  },
  {
   "cell_type": "code",
   "execution_count": 8,
   "id": "c0584229",
   "metadata": {},
   "outputs": [],
   "source": [
    "#pos2"
   ]
  },
  {
   "cell_type": "code",
   "execution_count": 9,
   "id": "e2ab87d4",
   "metadata": {},
   "outputs": [],
   "source": [
    "#count_M1+count_M2+count_F1+count_F2 #(count_M1+count_M2+count_F1+count_F2)*3/35000"
   ]
  },
  {
   "cell_type": "code",
   "execution_count": 18,
   "id": "54cc5ddf",
   "metadata": {},
   "outputs": [
    {
     "data": {
      "text/plain": [
       "(0.0, 35000000.0)"
      ]
     },
     "execution_count": 18,
     "metadata": {},
     "output_type": "execute_result"
    },
    {
     "data": {
      "image/png": "[encoded data removed]",
      "text/plain": [
       "<Figure size 432x288 with 4 Axes>"
      ]
     },
     "metadata": {
      "needs_background": "light"
     },
     "output_type": "display_data"
    }
   ],
   "source": [
    "import matplotlib.pyplot as plt\n",
    "\n",
    "num_bin=370\n",
    "\n",
    "fig, axs = plt.subplots(2, 2)\n",
    "\n",
    "axs[0, 0].hist(pos1,bins=num_bin)\n",
    "axs[0, 0].set_title('M1',color='red')\n",
    "axs[0, 0].set_xlim([0, 35000000])\n",
    "\n",
    "\n",
    "axs[0, 1].hist(pos2,bins=num_bin)\n",
    "axs[0, 1].set_title('M2',color='red')\n",
    "axs[0, 1].set_xlim([0, 35000000])\n",
    "\n",
    "axs[1, 0].hist(pos3,bins=num_bin)\n",
    "axs[1, 0].set_title('F1',color='red')\n",
    "axs[1, 0].set_xlim([0, 35000000])\n",
    "\n",
    "\n",
    "axs[1, 1].hist(pos4,bins=num_bin)\n",
    "axs[1, 1].set_title('F2',color='red')\n",
    "axs[1, 1].set_xlim([0, 35000000])\n",
    "\n"
   ]
  },
  {
   "cell_type": "code",
   "execution_count": null,
   "id": "992c6182",
   "metadata": {},
   "outputs": [],
   "source": []
  },
  {
   "cell_type": "code",
   "execution_count": 15,
   "id": "6ccc5f82",
   "metadata": {},
   "outputs": [],
   "source": [
    "#read_name_chop_list[:10]"
   ]
  },
  {
   "cell_type": "code",
   "execution_count": null,
   "id": "37fbb686",
   "metadata": {},
   "outputs": [],
   "source": []
  },
  {
   "cell_type": "code",
   "execution_count": null,
   "id": "774f3292",
   "metadata": {},
   "outputs": [],
   "source": []
  },
  {
   "cell_type": "code",
   "execution_count": 27,
   "id": "1a4df4a2",
   "metadata": {},
   "outputs": [
    {
     "name": "stdout",
     "output_type": "stream",
     "text": [
      "['M2', 'M1', 'M1', 'M1']\n",
      "['M1', 'M2', 'M1', 'M1']\n",
      "['M2', 'M1', 'M1', 'M1']\n",
      "['M1', 'M1', 'M2', 'M2']\n",
      "['M1', 'M1', 'M2', 'M2']\n",
      "['M2', 'M1', 'M1', 'M1']\n",
      "['M2', 'M1', 'M1', 'M1']\n",
      "['M2', 'M1', 'M1']\n",
      "['M1', 'M1', 'M1', 'M2']\n",
      "['M1', 'M2', 'M2', 'M2']\n",
      "['M1', 'M2', 'M1', 'M1']\n",
      "['M2', 'M1', 'M1', 'M1']\n",
      "['M2', 'M2', 'M1', 'M1']\n",
      "['M1', 'M1', 'M2', 'M2']\n",
      "['M1', 'M2', 'M1']\n",
      "['M1', 'M2', 'M2', 'M2']\n",
      "['M2', 'M2', 'M2', 'M1']\n",
      "['M1', 'M2', 'M2', 'M2']\n",
      "['M2', 'M1', 'M1', 'M1']\n",
      "['M2', 'M1', 'M1', 'M1']\n",
      "['M2', 'M2', 'M1']\n",
      "['M1', 'M2', 'M2', 'M2']\n",
      "['M1', 'M1', 'M1', 'M2']\n",
      "['M2', 'M2', 'M2', 'M1']\n",
      "['M2', 'M2', 'M2', 'M1']\n",
      "['M2', 'M2', 'M2', 'M1']\n",
      "['M1', 'M1', 'M2']\n",
      "['M1', 'M2', 'M2']\n",
      "['M2', 'M2', 'M1', 'M1']\n",
      "['M2', 'M2', 'M1', 'M1']\n",
      "['M2', 'M2', 'M2', 'M1']\n",
      "['M2', 'M2', 'M1']\n",
      "['M2', 'M2', 'M1']\n",
      "['M2', 'M1']\n",
      "['M1', 'M2', 'M2']\n",
      "['M1', 'M2', 'M2', 'M2']\n",
      "['M1', 'M1', 'M1', 'M2']\n",
      "['M1', 'M2', 'M2', 'M2']\n",
      "['M1', 'M1', 'M2', 'M1']\n",
      "['M2', 'M2', 'M1', 'M1']\n",
      "['M1', 'M1', 'M1', 'M2']\n",
      "['M1', 'M2', 'M1', 'M1']\n",
      "['M2', 'M2', 'M2', 'M1']\n",
      "['M1', 'M2', 'M2', 'M2']\n",
      "['M2', 'M1', 'M1']\n",
      "['M2', 'M2', 'M1']\n",
      "['M2', 'M2', 'M2', 'M1']\n",
      "['M1', 'M2', 'M2', 'M2']\n",
      "['M1', 'M1', 'M1', 'M2']\n",
      "['M1', 'M1', 'M1', 'M2']\n",
      "['M2', 'M2', 'M1', 'M1']\n",
      "['M1', 'M2', 'M1', 'M1']\n",
      "['M2', 'M1']\n",
      "['M2', 'M1', 'M1']\n",
      "['M1', 'M1', 'M2']\n",
      "['M2', 'M1', 'M1', 'M1']\n",
      "['M2', 'M2', 'M1', 'M1']\n",
      "['M1', 'M1', 'M2']\n",
      "['M2', 'M2', 'M2', 'M1']\n",
      "['M1', 'M1', 'M1', 'M2']\n",
      "['M1', 'M1', 'M2', 'M2']\n",
      "['M1', 'M1', 'M1', 'M2']\n",
      "['M1', 'M1', 'M1', 'M2']\n",
      "['M1', 'M1', 'M2', 'M2']\n",
      "['M2', 'M2', 'M1', 'M1']\n",
      "['M2', 'M1', 'M1', 'M1']\n",
      "['M1', 'M1', 'M2', 'M1']\n",
      "['M1', 'M1', 'M1', 'M2']\n",
      "['M2', 'M2', 'M2', 'M1']\n",
      "['M2', 'M1', 'M1', 'M1']\n",
      "['M1', 'M2', 'M2', 'M2']\n",
      "['M2', 'M2', 'M2', 'M1']\n",
      "['M2', 'M2', 'M1', 'M2']\n",
      "['M1', 'M2', 'M2']\n",
      "['M1', 'M2', 'M2', 'M2']\n",
      "['M2', 'M2', 'M1']\n",
      "['M1', 'M1', 'M1', 'M2']\n",
      "['M1', 'M1', 'M2', 'M2']\n",
      "['F1', 'F1', 'F1', 'F2']\n",
      "['F2', 'F2', 'F2', 'F1']\n",
      "['F2', 'F2', 'F2', 'F1']\n",
      "['F1', 'F2', 'F1', 'F1']\n",
      "['F2', 'F2', 'F2', 'F1']\n",
      "['F2', 'F1', 'F1', 'F1']\n",
      "['F1', 'F1', 'F2']\n",
      "['F1', 'F2', 'F1', 'F1']\n",
      "['F1', 'F1', 'F2', 'F2']\n",
      "['F1', 'F1', 'F2']\n",
      "['F2', 'F1', 'F1', 'F1']\n",
      "['F2', 'F1', 'F1', 'F1']\n",
      "['F2', 'F2', 'F1']\n",
      "['F2', 'F1', 'F1', 'F1']\n",
      "['F2', 'F1', 'F2', 'F2']\n",
      "['F2', 'F1', 'F1', 'F1']\n",
      "['F2', 'F1', 'F2', 'F2']\n",
      "['F1', 'F1', 'F1', 'F2']\n",
      "['F1', 'F2', 'F2', 'F2']\n",
      "['F1', 'F2', 'F2']\n",
      "['F2', 'F2', 'F2', 'F1']\n",
      "['F1', 'F2', 'F2', 'F2']\n",
      "['F1', 'F1', 'F1', 'F2']\n",
      "['F1', 'F2', 'F1', 'F1']\n",
      "['F2', 'F2', 'F1', 'F1']\n",
      "['F2', 'F2', 'F2', 'F1']\n",
      "['F1', 'F2', 'F2', 'F2']\n",
      "['F1', 'F1', 'F2', 'F1']\n",
      "['F1', 'F2', 'F2', 'F2']\n",
      "['F1', 'F1', 'F1', 'F2']\n",
      "['F1', 'F2', 'F2', 'F2']\n",
      "['F1', 'F1', 'F2', 'F1']\n",
      "['F2', 'F2', 'F1']\n",
      "['F1', 'F2', 'F2', 'F2']\n",
      "['F2', 'F1', 'F1']\n",
      "['F1', 'F1', 'F2', 'F2']\n",
      "['F2', 'F2', 'F1', 'F2']\n",
      "['F2', 'F2', 'F2', 'F1']\n",
      "['F2', 'F2', 'F1', 'F1']\n",
      "['F1', 'F2', 'F2', 'F2']\n",
      "['F2', 'F2', 'F1']\n",
      "['F1', 'F2', 'F2']\n",
      "['F1', 'F2', 'F2', 'F2']\n",
      "['F2', 'F1', 'F1', 'F1']\n",
      "['F2', 'F2', 'F1']\n"
     ]
    }
   ],
   "source": [
    "pos_candid_list=[]\n",
    "\n",
    "for i in range(len(read_name_root_list)):\n",
    "    \n",
    "    read_name_root_list_inner=read_name_root_list[i]\n",
    "    if len(set(read_name_root_list_inner))>1:\n",
    "        print(\"error\",read_name_root_list_inner)\n",
    "    pos_list_inner= pos_list[i]\n",
    "    chrom_list_inner = chrom_list[i]\n",
    "    read_name_chop_list_inner=read_name_chop_list[i]\n",
    "    \n",
    "    if len(set(chrom_list_inner))>1:   # candidate read  \n",
    "        \n",
    "        \n",
    "        chrom_list_inner_parent=set([i[0] for i in chrom_list_inner])\n",
    "        if len(chrom_list_inner_parent)==1:\n",
    "            print(chrom_list_inner)\n",
    "            i_1=0\n",
    "            first_hap = chrom_list_inner[0]\n",
    "            next_value = first_hap\n",
    "            while next_value == first_hap:\n",
    "                next_value=chrom_list_inner[i_1]\n",
    "                i_1 +=1\n",
    "                change_index=i_1-1\n",
    "\n",
    "\n",
    "            pos_candid_list.append(pos_list_inner[change_index-1])\n",
    "            pos_candid_list.append(pos_list_inner[change_index])\n",
    "        \n",
    "        #print(chrom_list_inner,change_index)\n",
    "            \n",
    "            #         a=[]\n",
    "#         for j in range(len(pos_list_inner)):\n",
    "#             a.append((pos_list_inner[j],\"H\"+str(chrom_list_inner[j])))\n",
    "#         print(a)\n",
    "        \n",
    "    \n"
   ]
  },
  {
   "cell_type": "code",
   "execution_count": 6,
   "id": "54cdd1ac",
   "metadata": {},
   "outputs": [],
   "source": [
    "#pos_candid_list"
   ]
  },
  {
   "cell_type": "code",
   "execution_count": 28,
   "id": "1473815d",
   "metadata": {},
   "outputs": [
    {
     "name": "stdout",
     "output_type": "stream",
     "text": [
      "Number of candidate positions is 78\n",
      "2492000 2\n",
      "2494000 7\n",
      "2495000 8\n",
      "2496000 9\n",
      "2497000 4\n",
      "2498000 6\n",
      "2499000 7\n",
      "2500000 8\n",
      "2501000 6\n",
      "10995000 6\n",
      "10996000 11\n",
      "10997000 11\n",
      "10998000 8\n",
      "10999000 10\n",
      "11000000 12\n",
      "11001000 8\n",
      "13993000 2\n",
      "13995000 8\n",
      "13996000 15\n",
      "13997000 10\n",
      "13998000 6\n",
      "13999000 13\n",
      "14000000 12\n",
      "14001000 3\n",
      "Number of candidate positions after tresholdin 1 is 24\n"
     ]
    }
   ],
   "source": [
    "treshold_coverage_breakpoint = 1\n",
    "resolution_value = 1000    # rounding the pos candidate\n",
    "\n",
    "\n",
    "pos_candid_list_round = [resolution_value*int(i/resolution_value)  for i in pos_candid_list]\n",
    "\n",
    "pos_candid_list_round_treshld = []\n",
    "count_candid_list_round_treshld = []\n",
    "pos_candid_list_round_unq=  list(np.sort(list(set(pos_candid_list_round))))\n",
    "\n",
    "\n",
    "print(\"Number of candidate positions is\",len(pos_candid_list_round_unq))\n",
    "\n",
    "for pos_candidate in pos_candid_list_round_unq:\n",
    "    count_i = pos_candid_list_round.count(pos_candidate)\n",
    "    #print(pos_candidate,count_i)\n",
    "    if count_i > treshold_coverage_breakpoint :\n",
    "        pos_candid_list_round_treshld.append(pos_candidate)\n",
    "        count_candid_list_round_treshld.append(count_i)\n",
    "        print(pos_candidate,count_i)\n",
    "\n",
    "num_candid= len(pos_candid_list_round_treshld)\n",
    "print(\"Number of candidate positions after tresholdin\",treshold_coverage_breakpoint,\"is\",num_candid)\n",
    "\n"
   ]
  },
  {
   "cell_type": "code",
   "execution_count": 8,
   "id": "4d624aa8",
   "metadata": {},
   "outputs": [
    {
     "data": {
      "text/plain": [
       "[10996000,\n",
       " 10997000,\n",
       " 10999000,\n",
       " 11000000,\n",
       " 13995000,\n",
       " 13996000,\n",
       " 13997000,\n",
       " 13998000,\n",
       " 13999000,\n",
       " 14000000]"
      ]
     },
     "execution_count": 8,
     "metadata": {},
     "output_type": "execute_result"
    }
   ],
   "source": [
    "pos_candid_list_round_treshld"
   ]
  },
  {
   "cell_type": "code",
   "execution_count": 29,
   "id": "a4511034",
   "metadata": {},
   "outputs": [
    {
     "data": {
      "image/png": "[encoded data removed]",
      "text/plain": [
       "<Figure size 432x288 with 1 Axes>"
      ]
     },
     "metadata": {
      "needs_background": "light"
     },
     "output_type": "display_data"
    }
   ],
   "source": [
    "import matplotlib.pyplot as plt\n",
    "\n",
    "import numpy as np\n",
    "\n",
    "pos_candid_list_round_treshld_kb=[i/1000 for i in pos_candid_list_round_treshld]\n",
    "plt.bar(pos_candid_list_round_treshld_kb,count_candid_list_round_treshld ,width=10)  #\n",
    "#plt.xscale('log') # , nonposy='clip'\n",
    "plt.title(\"chunk size=3kb, Resolution(steps) 1kb\")\n",
    "plt.ylabel(\"Read count whithin step\")\n",
    "plt.xlabel(\"Genomic position kb \") \n",
    "#plt.yticks([0,1,2])\n",
    "#plt.xticks(fontsize=8)\n",
    "\n",
    "#plt.savefig(\"/work/FAC/FBM/DBC/cdessim2/default/smajidi1/recombination/v8h1\"+\"_plot2.pdf\")\n",
    "\n",
    "plt.show()\n"
   ]
  },
  {
   "cell_type": "code",
   "execution_count": null,
   "id": "993baebd",
   "metadata": {},
   "outputs": [],
   "source": []
  },
  {
   "cell_type": "code",
   "execution_count": 10,
   "id": "7c794c67",
   "metadata": {},
   "outputs": [],
   "source": [
    "# pos_candid_list=[]\n",
    "\n",
    "# for i in range(len(read_name_root_list)):\n",
    "    \n",
    "#     read_name_root_list_inner=read_name_root_list[i]\n",
    "#     if len(set(read_name_root_list_inner))>1:\n",
    "#         print(\"error\",read_name_root_list_inner)\n",
    "#     pos_list_inner= pos_list[i]\n",
    "#     chrom_list_inner = chrom_list[i]\n",
    "#     #print(chrom_list_inner)\n",
    "#     read_name_chop_list_inner=read_name_chop_list[i]\n",
    "    \n",
    "#     if len(set(chrom_list_inner))>1:   # candidate read  \n",
    "        \n",
    "#         check1= False\n",
    "#         for i in chrom_list_inner:\n",
    "#             check1= check1 and i[0] == 'F'        \n",
    "        \n",
    "#         if check1:\n",
    "            \n",
    "#             print(chrom_list_inner)\n",
    "#             i_1=0\n",
    "#             first_hap = chrom_list_inner[0]\n",
    "#             next_value = first_hap\n",
    "#             while next_value == first_hap:\n",
    "#                 next_value=chrom_list_inner[i_1]\n",
    "#                 i_1 +=1\n",
    "#                 change_index=i_1-1\n",
    "\n",
    "\n",
    "#             pos_candid_list.append(pos_list_inner[change_index-1])\n",
    "#             pos_candid_list.append(pos_list_inner[change_index])\n",
    "        \n",
    "    \n",
    "    "
   ]
  },
  {
   "cell_type": "code",
   "execution_count": 11,
   "id": "d4c4d10d",
   "metadata": {},
   "outputs": [],
   "source": [
    "# i=10\n",
    "# read_name_root_list_inner=read_name_root_list[i]\n",
    "# pos_list_inner= pos_list[i]\n",
    "# chrom_list_inner = chrom_list[i]\n",
    "# read_name_chop_list_inner=read_name_chop_list[i]\n",
    "# read_name_chop_list_inner, chrom_list_inner"
   ]
  },
  {
   "cell_type": "code",
   "execution_count": null,
   "id": "e8579e7f",
   "metadata": {},
   "outputs": [],
   "source": []
  },
  {
   "cell_type": "code",
   "execution_count": 12,
   "id": "b1e0c263",
   "metadata": {},
   "outputs": [],
   "source": [
    "# chrom_list_inner=[1,1,1,2,1,2]\n",
    "# i_1=0\n",
    "# next_value = first_hap\n",
    "# while next_value == first_hap:\n",
    "#     next_value=chrom_list_inner[i_1]\n",
    "#     i_1 +=1\n",
    "#     change_index=i_1-1\n",
    "# print(change_index)\n",
    "# print(\"done\")\n",
    "# #         #done_last=True\n",
    "\n",
    "# # for ii in range(1,len(pos_list_inner)):\n",
    "\n",
    "# #     if chrom_list_inner[ii] \n",
    "# #         print(ii,first_hap,chrom_list_inner[ii])\n",
    "\n",
    "# # a1 = pos_list_inner[j]\n",
    "\n"
   ]
  },
  {
   "cell_type": "code",
   "execution_count": null,
   "id": "bc7f11a5",
   "metadata": {},
   "outputs": [],
   "source": []
  },
  {
   "cell_type": "code",
   "execution_count": null,
   "id": "09875d2e",
   "metadata": {},
   "outputs": [],
   "source": []
  },
  {
   "cell_type": "code",
   "execution_count": null,
   "id": "694898aa",
   "metadata": {},
   "outputs": [],
   "source": []
  },
  {
   "cell_type": "code",
   "execution_count": null,
   "id": "227bee4f",
   "metadata": {},
   "outputs": [],
   "source": []
  },
  {
   "cell_type": "code",
   "execution_count": null,
   "id": "9ab220ed",
   "metadata": {},
   "outputs": [],
   "source": []
  },
  {
   "cell_type": "code",
   "execution_count": null,
   "id": "806b5a8a",
   "metadata": {},
   "outputs": [],
   "source": []
  },
  {
   "cell_type": "code",
   "execution_count": null,
   "id": "7edfcb23",
   "metadata": {},
   "outputs": [],
   "source": []
  },
  {
   "cell_type": "code",
   "execution_count": 13,
   "id": "0eda368e",
   "metadata": {},
   "outputs": [
    {
     "data": {
      "text/plain": [
       "([5, 3, 5, 2, 3, 3, 10, 2, 3, 9],\n",
       " [10996000,\n",
       "  10997000,\n",
       "  10999000,\n",
       "  11000000,\n",
       "  13995000,\n",
       "  13996000,\n",
       "  13997000,\n",
       "  13998000,\n",
       "  13999000,\n",
       "  14000000])"
      ]
     },
     "execution_count": 13,
     "metadata": {},
     "output_type": "execute_result"
    }
   ],
   "source": [
    "count_candid_list_round_treshld, pos_candid_list_round_treshld"
   ]
  },
  {
   "cell_type": "code",
   "execution_count": null,
   "id": "00eaf4b0",
   "metadata": {},
   "outputs": [],
   "source": []
  },
  {
   "cell_type": "code",
   "execution_count": 14,
   "id": "13f8adad",
   "metadata": {},
   "outputs": [],
   "source": [
    "import matplotlib.pyplot as plt\n",
    "\n",
    "# plt.hist(pos_candid_list_round)\n",
    "# plt.show()"
   ]
  },
  {
   "cell_type": "code",
   "execution_count": null,
   "id": "e8fe1925",
   "metadata": {},
   "outputs": [],
   "source": []
  },
  {
   "cell_type": "code",
   "execution_count": null,
   "id": "2ae4ad82",
   "metadata": {},
   "outputs": [],
   "source": []
  },
  {
   "cell_type": "code",
   "execution_count": null,
   "id": "8621fda2",
   "metadata": {},
   "outputs": [],
   "source": []
  },
  {
   "cell_type": "code",
   "execution_count": 30,
   "id": "7ac79c1a",
   "metadata": {
    "scrolled": true
   },
   "outputs": [
    {
     "data": {
      "image/png": "[encoded data removed]",
      "text/plain": [
       "<Figure size 432x288 with 1 Axes>"
      ]
     },
     "metadata": {
      "needs_background": "light"
     },
     "output_type": "display_data"
    }
   ],
   "source": [
    "\n",
    "pos_candid_list_round_treshld2=[]\n",
    "count_candid_list_round_treshld2= []\n",
    "for i in range(len(pos_candid_list_round_treshld)):\n",
    "    if pos_candid_list_round_treshld[i] > 13000000:\n",
    "        pos_candid_list_round_treshld2.append(pos_candid_list_round_treshld[i])\n",
    "        count_candid_list_round_treshld2.append(count_candid_list_round_treshld[i])\n",
    "        \n",
    "\n",
    "pos_candid_list_round_treshld_kb=[i for i in pos_candid_list_round_treshld2]\n",
    "plt.bar(pos_candid_list_round_treshld_kb,count_candid_list_round_treshld2,width=200) \n",
    "#plt.xscale('log') # , nonposy='clip'\n",
    "plt.title(\"chunk size=3kb, Resolution(steps) 1kb\")\n",
    "plt.ylabel(\"Read count whithin step\")\n",
    "plt.xlabel(\"Genomic position  \") \n",
    "#plt.yticks([0,1,2])\n",
    "#plt.xticks(fontsize=8)\n",
    "\n",
    "#plt.savefig(\"/work/FAC/FBM/DBC/cdessim2/default/smajidi1/recombination/v8h1\"+\"_plot2.pdf\")\n",
    "\n",
    "plt.show()\n"
   ]
  },
  {
   "cell_type": "code",
   "execution_count": 16,
   "id": "b7baa553",
   "metadata": {},
   "outputs": [
    {
     "data": {
      "image/png": "[encoded data removed]",
      "text/plain": [
       "<Figure size 432x288 with 1 Axes>"
      ]
     },
     "metadata": {
      "needs_background": "light"
     },
     "output_type": "display_data"
    }
   ],
   "source": [
    "\n",
    "pos_candid_list_round_treshld2=[]\n",
    "count_candid_list_round_treshld2= []\n",
    "for i in range(len(pos_candid_list_round_treshld)):\n",
    "    if pos_candid_list_round_treshld[i] < 13000000:\n",
    "        pos_candid_list_round_treshld2.append(pos_candid_list_round_treshld[i])\n",
    "        count_candid_list_round_treshld2.append(count_candid_list_round_treshld[i])\n",
    "        \n",
    "\n",
    "pos_candid_list_round_treshld_kb=[i+1500 for i in pos_candid_list_round_treshld2]\n",
    "plt.bar(pos_candid_list_round_treshld_kb,count_candid_list_round_treshld2,width=200) \n",
    "#plt.xscale('log') # , nonposy='clip'\n",
    "plt.title(\"chunk size=3kb, Resolution(steps) 1kb\")\n",
    "plt.ylabel(\"Read count whithin step\")\n",
    "plt.xlabel(\"Genomic position  \") \n",
    "#plt.yticks([0,1,2])\n",
    "#plt.xticks(fontsize=8)\n",
    "\n",
    "#plt.savefig(\"/work/FAC/FBM/DBC/cdessim2/default/smajidi1/recombination/v8h1\"+\"_plot2.pdf\")\n",
    "\n",
    "plt.show()\n"
   ]
  },
  {
   "cell_type": "code",
   "execution_count": null,
   "id": "95e283d0",
   "metadata": {},
   "outputs": [],
   "source": []
  },
  {
   "cell_type": "code",
   "execution_count": 31,
   "id": "f6bc48a4",
   "metadata": {},
   "outputs": [
    {
     "name": "stdout",
     "output_type": "stream",
     "text": [
      "[2497211, 10998106, 13997594]\n"
     ]
    }
   ],
   "source": [
    "MeanShift_bandwidth= 200*1000\n",
    "\n",
    "\n",
    "\n",
    "predicted_pos_final  = []\n",
    "if num_candid>1:\n",
    "\n",
    "\n",
    "    pos_candid_list_round_treshld = np.array(pos_candid_list_round_treshld)\n",
    "    count_candid_list_round_treshld = np.array(count_candid_list_round_treshld)\n",
    "    pos_candid_list_round_treshld_reshped = pos_candid_list_round_treshld.reshape(-1, 1)\n",
    "\n",
    "\n",
    "    try:\n",
    "        clustering = MeanShift(bandwidth=MeanShift_bandwidth,bin_seeding=True).fit(pos_candid_list_round_treshld_reshped)  # n_jobs= -1 using all cores.\n",
    "        #print(clustering.labels_)\n",
    "    except MemoryError:  # how to handle this?\n",
    "        log_excepttion(MemoryError)\n",
    "        exit(1)\n",
    "\n",
    "    clusters_labels=clustering.labels_\n",
    "    # cluster labels are not in order, the first one may be 1, next 0 next 2!  # array([1, 1, 0, 0, 0, 2, 2])\n",
    "    cluster_unique, cluster_id = np.unique(clusters_labels, return_index=True)\n",
    "    cluster_unique_order_preserved = cluster_unique[np.argsort(cluster_id)]\n",
    "\n",
    "    for cluster_id  in cluster_unique_order_preserved:\n",
    "        indices_this_cluster = np.where(clusters_labels == cluster_id)  # indices of alleles in the combined list which are estimated to be in this cluster\n",
    "        pos_this_cluster = pos_candid_list_round_treshld[indices_this_cluster[0]]\n",
    "        count_this_cluster = count_candid_list_round_treshld[indices_this_cluster]\n",
    "        predicted_pos= round(sum(pos_this_cluster*count_this_cluster)/sum(count_this_cluster))\n",
    "        predicted_pos_final.append(predicted_pos)\n",
    "    print(predicted_pos_final)\n",
    "\n",
    "else:\n",
    "    print(\"No recombination spot is detected. \")\n"
   ]
  },
  {
   "cell_type": "code",
   "execution_count": null,
   "id": "72578590",
   "metadata": {},
   "outputs": [],
   "source": []
  },
  {
   "cell_type": "markdown",
   "id": "74325ba9",
   "metadata": {},
   "source": [
    "# post filtering\n"
   ]
  },
  {
   "cell_type": "code",
   "execution_count": null,
   "id": "06b738fb",
   "metadata": {},
   "outputs": [],
   "source": [
    "\n",
    "\n",
    "\n",
    "#vcf_file_address= \"/work/FAC/FBM/DBC/cdessim2/default/smajidi1/recombination/v11a/t1/var_mother/phased.vcf\"  #p7c/phased_M.vcf\"\n",
    "\n",
    "\n",
    "# file_input_mother_phasing_address=  file_input_project_address+ \"var_mother/phased.vcf\"\n",
    "# file_input_father_phasing_address=  file_input_project_address+  \"var_father/phased.vcf\"\n",
    "\n",
    "vcf_file_mother = open(file_input_mother_phasing_address,'r')\n",
    "id_blocks_mother = set()  \n",
    "\n",
    "for line in vcf_file_mother:\n",
    "    line_strip = line.strip()\n",
    "    if line_strip.startswith('#'):\n",
    "        pass\n",
    "    else:\n",
    "        line_parts=line_strip.split('\\t')\n",
    "        format_genotype, values_genotype = line_parts[8:10]    # 'GT:GQ:DP:AF:GL:PS', '0|1:255:.:.:.,0,.:60780'\n",
    "        values_genotype_splitted = values_genotype.split(':')\n",
    "        format_genotype_splitted = format_genotype.split(':')\n",
    "        gt_index = format_genotype_splitted.index(\"GT\")           #  index of allele in  values_genotype\n",
    "        allele = values_genotype_splitted[gt_index]\n",
    "        if (allele == '0|1' or allele == '1|0'):\n",
    "            ps_index = format_genotype_splitted.index(\"PS\")           #  index of phase set in values_genotype\n",
    "            id_block = values_genotype_splitted[ps_index]\n",
    "            id_blocks_mother.add(id_block)\n",
    "vcf_file_mother.close()\n",
    "print(id_blocks_mother)\n",
    "\n",
    "\n",
    "\n",
    "vcf_file_father = open(file_input_father_phasing_address,'r')\n",
    "id_blocks_father = set()  \n",
    "\n",
    "for line in vcf_file_father:\n",
    "    line_strip = line.strip()\n",
    "    if line_strip.startswith('#'):\n",
    "        pass\n",
    "    else:\n",
    "        line_parts=line_strip.split('\\t')\n",
    "        format_genotype, values_genotype = line_parts[8:10]    # 'GT:GQ:DP:AF:GL:PS', '0|1:255:.:.:.,0,.:60780'\n",
    "        values_genotype_splitted = values_genotype.split(':')\n",
    "        format_genotype_splitted = format_genotype.split(':')\n",
    "        gt_index = format_genotype_splitted.index(\"GT\")           #  index of allele in  values_genotype\n",
    "        allele = values_genotype_splitted[gt_index]\n",
    "        if (allele == '0|1' or allele == '1|0'):\n",
    "            ps_index = format_genotype_splitted.index(\"PS\")           #  index of phase set in values_genotype\n",
    "            id_block = values_genotype_splitted[ps_index]\n",
    "            id_blocks_father.add(id_block)\n",
    "vcf_file_father.close()\n",
    "print(id_blocks_father)\n",
    "\n",
    "\n",
    "id_blocks= list(id_blocks_father.union(id_blocks_mother))\n"
   ]
  },
  {
   "cell_type": "code",
   "execution_count": 66,
   "id": "3120640b",
   "metadata": {},
   "outputs": [
    {
     "name": "stdout",
     "output_type": "stream",
     "text": [
      "possible wrong 2497211\n",
      "[10998106, 13997594]\n"
     ]
    }
   ],
   "source": [
    "predicted_pos_final_filter=predicted_pos_final[:]\n",
    "for predicted_pos in predicted_pos_final:\n",
    "    for i in id_blocks:\n",
    "        switch=int(i)\n",
    "        if predicted_pos<switch+5000 and predicted_pos>switch-5000:\n",
    "            print(\"possible wrong\", predicted_pos)\n",
    "            predicted_pos_final_filter.remove(predicted_pos)\n",
    "            break\n",
    "\n",
    "\n",
    "print(predicted_pos_final_filter)"
   ]
  },
  {
   "cell_type": "code",
   "execution_count": 65,
   "id": "d6c874ba",
   "metadata": {},
   "outputs": [
    {
     "data": {
      "text/plain": [
       "[2, 3, 5]"
      ]
     },
     "execution_count": 65,
     "metadata": {},
     "output_type": "execute_result"
    }
   ],
   "source": []
  },
  {
   "cell_type": "code",
   "execution_count": null,
   "id": "49604850",
   "metadata": {},
   "outputs": [],
   "source": []
  },
  {
   "cell_type": "code",
   "execution_count": null,
   "id": "9809c1c0",
   "metadata": {},
   "outputs": [],
   "source": []
  },
  {
   "cell_type": "code",
   "execution_count": null,
   "id": "32fb05e0",
   "metadata": {},
   "outputs": [],
   "source": []
  },
  {
   "cell_type": "code",
   "execution_count": null,
   "id": "5dd86615",
   "metadata": {},
   "outputs": [],
   "source": []
  },
  {
   "cell_type": "code",
   "execution_count": null,
   "id": "5f94137b",
   "metadata": {},
   "outputs": [],
   "source": [
    "pos_this_cluster"
   ]
  },
  {
   "cell_type": "code",
   "execution_count": null,
   "id": "61a5223d",
   "metadata": {},
   "outputs": [],
   "source": [
    "pos_this_cluster"
   ]
  },
  {
   "cell_type": "code",
   "execution_count": null,
   "id": "34567353",
   "metadata": {},
   "outputs": [],
   "source": [
    "count_this_cluster"
   ]
  },
  {
   "cell_type": "code",
   "execution_count": null,
   "id": "9ea5f4ee",
   "metadata": {},
   "outputs": [],
   "source": []
  },
  {
   "cell_type": "code",
   "execution_count": null,
   "id": "b18eb84f",
   "metadata": {},
   "outputs": [],
   "source": [
    "import matplotlib.pyplot as plt\n",
    "\n",
    "plt.hist(pos_candid_list,bins=10000,width=10000) # , bins=10\n",
    "#plt.show()\n",
    "plt.savefig(file_add+\"_plot.png\")\n"
   ]
  },
  {
   "cell_type": "code",
   "execution_count": null,
   "id": "da54e8f8",
   "metadata": {},
   "outputs": [],
   "source": [
    "#len(pos_candid_list)\n"
   ]
  },
  {
   "cell_type": "code",
   "execution_count": null,
   "id": "f728d854",
   "metadata": {},
   "outputs": [],
   "source": [
    "mostFrequent_pos = max(set(pos_list), key = pos_list.count)\n",
    "\n",
    "print(mostFrequent_pos)\n",
    "second_pos_list=[i for  i  in pos_list if i!=mostFrequent_pos  ]\n",
    "\n",
    "second_mostFrequent_pos = max(set(second_pos_list), key = second_pos_list.count)\n",
    "\n",
    "print(second_mostFrequent_pos)\n",
    "\n",
    "pos_list.count(mostFrequent_pos)"
   ]
  },
  {
   "cell_type": "code",
   "execution_count": null,
   "id": "3b62e7cf",
   "metadata": {},
   "outputs": [],
   "source": [
    "plt.hist(pos_list,bins=1000,width=50000) # , bins=10\n",
    "plt.show()\n",
    "#plt.savefig(file_add+\"_plot.png\")\n"
   ]
  },
  {
   "cell_type": "code",
   "execution_count": null,
   "id": "aee21016",
   "metadata": {},
   "outputs": [],
   "source": [
    "\n",
    "thresh =30\n",
    "pos_list_estimate_high = []\n",
    "pos_list_estimate_unq=  list(set(pos_list_estimate))\n",
    "    \n",
    "for i in pos_list_estimate_unq:\n",
    "    \n",
    "    count_i = pos_list_estimate.count(i)\n",
    "    if count_i>thresh :\n",
    "        pos_list_estimate_high.append(i)\n",
    "        \n",
    "        \n",
    "print(len(pos_list_estimate_high))"
   ]
  },
  {
   "cell_type": "code",
   "execution_count": null,
   "id": "ce0f6845",
   "metadata": {},
   "outputs": [],
   "source": [
    "pos_list_estimate_high[:3]"
   ]
  },
  {
   "cell_type": "code",
   "execution_count": null,
   "id": "d5197f4e",
   "metadata": {},
   "outputs": [],
   "source": []
  },
  {
   "cell_type": "code",
   "execution_count": null,
   "id": "beac8ecd",
   "metadata": {},
   "outputs": [],
   "source": []
  },
  {
   "cell_type": "code",
   "execution_count": null,
   "id": "4c78bba0",
   "metadata": {},
   "outputs": [],
   "source": []
  },
  {
   "cell_type": "code",
   "execution_count": null,
   "id": "caa25feb",
   "metadata": {},
   "outputs": [],
   "source": []
  },
  {
   "cell_type": "code",
   "execution_count": null,
   "id": "91349fa3",
   "metadata": {},
   "outputs": [],
   "source": []
  },
  {
   "cell_type": "code",
   "execution_count": 21,
   "id": "7e156e2b",
   "metadata": {},
   "outputs": [
    {
     "name": "stdout",
     "output_type": "stream",
     "text": [
      "43414\n",
      "43414 2.6570552871199062 91.4555186615\n",
      "43414 40.53485006400229 75.1198605516705\n"
     ]
    }
   ],
   "source": [
    "import numpy as np\n",
    "file_recomb_addrss=\"genetic_map_chr22_combined_b37.txt\"\n",
    "\n",
    "\n",
    "file_recomb= open(file_recomb_addrss,'r');\n",
    "\n",
    "\n",
    "hot_list_pos_recomb=[]\n",
    "hot_list_pos_rate=[]\n",
    "hot_list_pos_cm = []\n",
    "\n",
    "for line in file_recomb:\n",
    "    line_strip = line.strip()\n",
    "    \n",
    "    if line_strip.startswith('p'):\n",
    "        header1=line_strip\n",
    "    else:\n",
    "        \n",
    "        vals = line_strip.split()   # last line of header contains sample name\n",
    "        pos_recomb=vals[0]\n",
    "        pos_rate=vals[1]\n",
    "        pos_cm = vals[2]\n",
    "        \n",
    "        hot_list_pos_rate.append(float(pos_rate))\n",
    "        hot_list_pos_recomb.append(int(pos_recomb))\n",
    "        hot_list_pos_cm.append(float(pos_cm))\n",
    "print(len(hot_list_pos_recomb))\n",
    "print(len(hot_list_pos_rate), np.mean(hot_list_pos_rate),max(hot_list_pos_rate))\n",
    "print(len(hot_list_pos_cm), np.mean(hot_list_pos_cm),max(hot_list_pos_cm))\n",
    "\n",
    "\n"
   ]
  },
  {
   "cell_type": "code",
   "execution_count": null,
   "id": "4d701a59",
   "metadata": {},
   "outputs": [],
   "source": []
  },
  {
   "cell_type": "code",
   "execution_count": null,
   "id": "ac57d373",
   "metadata": {},
   "outputs": [],
   "source": [
    "\n",
    "hot_list_pos_recomb_high=[]\n",
    "hot_list_pos_rate_high= [ ]\n",
    "\n",
    "for pos_i, pos_rate in enumerate(hot_list_pos_rate):\n",
    "    \n",
    "    \n",
    "    if pos_rate>10:\n",
    "        hot_list_pos_recomb_high.append(hot_list_pos_recomb[pos_i])\n",
    "        hot_list_pos_rate_high.append(hot_list_pos_rate[pos_i])\n",
    "        \n",
    "        \n",
    "print(len(hot_list_pos_recomb_high))"
   ]
  },
  {
   "cell_type": "code",
   "execution_count": 22,
   "id": "210de6af",
   "metadata": {},
   "outputs": [
    {
     "data": {
      "image/png": "[encoded data removed]",
      "text/plain": [
       "<Figure size 432x288 with 1 Axes>"
      ]
     },
     "metadata": {
      "needs_background": "light"
     },
     "output_type": "display_data"
    }
   ],
   "source": [
    "\n",
    "plt.scatter(hot_list_pos_recomb,hot_list_pos_rate, s= .1) # , bins=10\n",
    "plt.xlabel('genomic pos (bp)')\n",
    "plt.ylabel('rate in (cM/Mb)')\n",
    "plt.show()\n",
    "\n",
    "#plt.savefig(file_add+\"_plot.png\")\n",
    "\n"
   ]
  },
  {
   "cell_type": "code",
   "execution_count": null,
   "id": "8dc471a7",
   "metadata": {},
   "outputs": [],
   "source": [
    "\n",
    "plt.scatter(hot_list_pos_recomb_high,hot_list_pos_rate_high, s= .1) # , bins=10\n",
    "plt.xlabel('genomic pos (bp)')\n",
    "plt.ylabel('rate in (cM/Mb)')\n",
    "plt.show()\n",
    "\n",
    "#plt.savefig(file_add+\"_plot.png\")\n",
    "\n"
   ]
  },
  {
   "cell_type": "code",
   "execution_count": null,
   "id": "39a4bfe6",
   "metadata": {},
   "outputs": [],
   "source": [
    "\n",
    "file_add1=\"/users/smajidi1/\"\n",
    "\n",
    "plt.scatter(hot_list_pos_recomb_high,hot_list_pos_rate_high, s= .5) # , bins=10\n",
    "plt.xlabel('genomic pos (bp)')\n",
    "plt.ylabel('rate in (cM/Mb)')\n",
    "for xc in pos_list_estimate_high:\n",
    "    plt.axvline(x=xc,linewidth =.04,color=\"r\")\n",
    "    \n",
    "plt.savefig(file_add1+\"_plot.pdf\")\n",
    "    \n",
    "    \n",
    "    "
   ]
  },
  {
   "cell_type": "code",
   "execution_count": null,
   "id": "ea113287",
   "metadata": {},
   "outputs": [],
   "source": [
    "pos_list_estimate_high[:2]"
   ]
  },
  {
   "cell_type": "code",
   "execution_count": null,
   "id": "c7410e9c",
   "metadata": {},
   "outputs": [],
   "source": [
    "\n",
    "list_pos_overlap = pos_list\n",
    "\n",
    "correct_pos=0\n",
    "for pos_overlap in list_pos_overlap:\n",
    "    \n",
    "    for pos_recomb in list_pos_recomb_high:\n",
    "        \n",
    "        if pos_recomb < pos_overlap+500 and pos_recomb > pos_overlap-500 :\n",
    "            correct_pos+=1\n",
    "            \n",
    "print(correct_pos,len(list_pos_overlap),len(list_pos_recomb_high)) \n",
    "    "
   ]
  },
  {
   "cell_type": "code",
   "execution_count": null,
   "id": "e695cde0",
   "metadata": {},
   "outputs": [],
   "source": []
  },
  {
   "cell_type": "code",
   "execution_count": null,
   "id": "a10fcbb5",
   "metadata": {},
   "outputs": [],
   "source": []
  },
  {
   "cell_type": "code",
   "execution_count": null,
   "id": "07f88c19",
   "metadata": {},
   "outputs": [],
   "source": []
  },
  {
   "cell_type": "code",
   "execution_count": null,
   "id": "cb95592e",
   "metadata": {},
   "outputs": [],
   "source": [
    "plt.scatter(pos_list) # , bins=10\n",
    "plt.show()\n",
    "#plt.savefig(file_add+\"_plot.png\")\n",
    "\n"
   ]
  },
  {
   "cell_type": "code",
   "execution_count": null,
   "id": "a1fbe642",
   "metadata": {},
   "outputs": [],
   "source": []
  },
  {
   "cell_type": "code",
   "execution_count": null,
   "id": "2c47f4c9",
   "metadata": {},
   "outputs": [],
   "source": []
  },
  {
   "cell_type": "code",
   "execution_count": null,
   "id": "e15594e1",
   "metadata": {},
   "outputs": [],
   "source": [
    "#for pos_overlap in list_pos_overlap:\n",
    "\n",
    "pos_overlap= 16980000\n",
    "\n",
    "for i in range(len(hot_list_pos_recomb)):\n",
    "    pos_recomb= hot_list_pos_recomb[i]\n",
    "    rate = hot_list_pos_rate [i]\n",
    "    \n",
    "\n",
    "    if pos_recomb < pos_overlap+5000 and pos_recomb > pos_overlap-5000 :\n",
    "        print(pos_recomb,rate)"
   ]
  },
  {
   "cell_type": "code",
   "execution_count": null,
   "id": "4040914d",
   "metadata": {},
   "outputs": [],
   "source": []
  },
  {
   "cell_type": "code",
   "execution_count": null,
   "id": "e15a7605",
   "metadata": {},
   "outputs": [],
   "source": []
  },
  {
   "cell_type": "code",
   "execution_count": null,
   "id": "31bf007a",
   "metadata": {},
   "outputs": [],
   "source": []
  },
  {
   "cell_type": "code",
   "execution_count": null,
   "id": "8cc1bcea",
   "metadata": {},
   "outputs": [],
   "source": [
    "\n",
    "list_pos_overlap = pos_list\n",
    "\n",
    "correct_pos=0\n",
    "for pos_overlap in list_pos_overlap:\n",
    "    \n",
    "    for pos_recomb in list_pos_recomb_high:\n",
    "        \n",
    "        if pos_recomb < pos_overlap+500 and pos_recomb > pos_overlap-500 :\n",
    "            correct_pos+=1\n",
    "            \n",
    "print(correct_pos,len(list_pos_overlap),len(list_pos_recomb_high)) \n",
    "    "
   ]
  },
  {
   "cell_type": "code",
   "execution_count": null,
   "id": "3de4db73",
   "metadata": {},
   "outputs": [],
   "source": []
  },
  {
   "cell_type": "code",
   "execution_count": null,
   "id": "9cba0879",
   "metadata": {},
   "outputs": [],
   "source": [
    "correct_pos=0\n",
    "for pos_overlap in list_pos_recomb_high:\n",
    "    \n",
    "    for pos_recomb in list_pos_recomb_high:\n",
    "        \n",
    "        if pos_recomb < pos_overlap+500 and pos_recomb > pos_overlap-500 :\n",
    "            correct_pos+=1\n",
    "            \n",
    "print(correct_pos,len(list_pos_recomb_high),len(list_pos_recomb_high)) \n",
    "    "
   ]
  },
  {
   "cell_type": "code",
   "execution_count": null,
   "id": "46acbe80",
   "metadata": {},
   "outputs": [],
   "source": [
    "list_pos_recomb_high"
   ]
  },
  {
   "cell_type": "code",
   "execution_count": null,
   "id": "57dd5639",
   "metadata": {},
   "outputs": [],
   "source": [
    "#import math\n",
    "np.log(1.6755414512199618e-06)\n"
   ]
  },
  {
   "cell_type": "code",
   "execution_count": null,
   "id": "9c8e3e56",
   "metadata": {},
   "outputs": [],
   "source": []
  },
  {
   "cell_type": "code",
   "execution_count": null,
   "id": "69aa8e05",
   "metadata": {},
   "outputs": [],
   "source": []
  },
  {
   "cell_type": "code",
   "execution_count": null,
   "id": "9591efa2",
   "metadata": {},
   "outputs": [],
   "source": []
  },
  {
   "cell_type": "code",
   "execution_count": 54,
   "id": "d0636393",
   "metadata": {},
   "outputs": [
    {
     "name": "stdout",
     "output_type": "stream",
     "text": [
      "{'2480', '5574706', '2501547', '5485738'}\n",
      "{'5485661', '296', '5572781'}\n"
     ]
    }
   ],
   "source": []
  },
  {
   "cell_type": "code",
   "execution_count": 58,
   "id": "19815fd9",
   "metadata": {},
   "outputs": [],
   "source": []
  },
  {
   "cell_type": "code",
   "execution_count": 52,
   "id": "98606bac",
   "metadata": {},
   "outputs": [
    {
     "ename": "NameError",
     "evalue": "name 'format_genotype_splittedz' is not defined",
     "output_type": "error",
     "traceback": [
      "\u001b[0;31m---------------------------------------------------------------------------\u001b[0m",
      "\u001b[0;31mNameError\u001b[0m                                 Traceback (most recent call last)",
      "\u001b[0;32m<ipython-input-52-a7431d74dd24>\u001b[0m in \u001b[0;36m<module>\u001b[0;34m\u001b[0m\n\u001b[0;32m----> 1\u001b[0;31m \u001b[0mformat_genotype_splittedz\u001b[0m\u001b[0;34m\u001b[0m\u001b[0;34m\u001b[0m\u001b[0m\n\u001b[0m",
      "\u001b[0;31mNameError\u001b[0m: name 'format_genotype_splittedz' is not defined"
     ]
    }
   ],
   "source": []
  },
  {
   "cell_type": "code",
   "execution_count": null,
   "id": "c73b5087",
   "metadata": {},
   "outputs": [],
   "source": []
  }
 ],
 "metadata": {
  "kernelspec": {
   "display_name": "Python 3",
   "language": "python",
   "name": "python3"
  },
  "language_info": {
   "codemirror_mode": {
    "name": "ipython",
    "version": 3
   },
   "file_extension": ".py",
   "mimetype": "text/x-python",
   "name": "python",
   "nbconvert_exporter": "python",
   "pygments_lexer": "ipython3",
   "version": "3.8.1"
  }
 },
 "nbformat": 4,
 "nbformat_minor": 5
}
