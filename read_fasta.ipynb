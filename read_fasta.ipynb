{
 "cells": [
  {
   "cell_type": "code",
   "execution_count": 1,
   "id": "7c528830",
   "metadata": {},
   "outputs": [],
   "source": []
  },
  {
   "cell_type": "code",
   "execution_count": 13,
   "id": "7afe1080",
   "metadata": {},
   "outputs": [
    {
     "name": "stdout",
     "output_type": "stream",
     "text": [
      "34894450\n"
     ]
    }
   ],
   "source": [
    "file_fasta_address= \"/work/FAC/FBM/DBC/cdessim2/default/smajidi1/recombination/v10a/t5/p7/haplotype_F2.fa\"\n",
    "file_fasta = open(file_fasta_address,'r');\n",
    "\n",
    "# assimption one record only\n",
    "record_name= []\n",
    "sequence= ''\n",
    "\n",
    "for line in file_fasta:\n",
    "    line_strip = line.strip()\n",
    "    if line_strip.startswith(\">\"):\n",
    "        record_name.append(line_strip)\n",
    "    else:\n",
    "        sequence+=line_strip\n",
    "print(len(sequence))\n"
   ]
  },
  {
   "cell_type": "code",
   "execution_count": 14,
   "id": "6fafdf82",
   "metadata": {},
   "outputs": [
    {
     "name": "stdout",
     "output_type": "stream",
     "text": [
      "The base in position 11001096 is a .\n",
      "The base in position 11001260 is a .\n"
     ]
    }
   ],
   "source": [
    "\n",
    "pos= 11001096              # 1-based genomic position\n",
    "\n",
    "pos_list =[11001096,11001260 ]\n",
    "\n",
    "for pos in pos_list:\n",
    "\n",
    "    base=sequence[pos-1]  # python 0-based position\n",
    "\n",
    "    print(\"The base in position\",pos,\"is\",base,\".\")"
   ]
  },
  {
   "cell_type": "code",
   "execution_count": null,
   "id": "8f343eed",
   "metadata": {},
   "outputs": [],
   "source": []
  },
  {
   "cell_type": "code",
   "execution_count": null,
   "id": "72cb595f",
   "metadata": {},
   "outputs": [],
   "source": []
  }
 ],
 "metadata": {
  "kernelspec": {
   "display_name": "Python 3",
   "language": "python",
   "name": "python3"
  },
  "language_info": {
   "codemirror_mode": {
    "name": "ipython",
    "version": 3
   },
   "file_extension": ".py",
   "mimetype": "text/x-python",
   "name": "python",
   "nbconvert_exporter": "python",
   "pygments_lexer": "ipython3",
   "version": "3.8.1"
  }
 },
 "nbformat": 4,
 "nbformat_minor": 5
}
