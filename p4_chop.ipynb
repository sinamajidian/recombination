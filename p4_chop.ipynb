{
 "cells": [
  {
   "cell_type": "code",
   "execution_count": null,
   "id": "occasional-senegal",
   "metadata": {},
   "outputs": [],
   "source": []
  },
  {
   "cell_type": "code",
   "execution_count": 65,
   "id": "c283095e",
   "metadata": {},
   "outputs": [
    {
     "name": "stdout",
     "output_type": "stream",
     "text": [
      "The chopped version is in  /work/FAC/FBM/DBC/cdessim2/default/smajidi1/recombination/r1a/p4/_chopped.fastq\n"
     ]
    }
   ],
   "source": [
    "#!/usr/bin/python3\n",
    "\n",
    "import numpy as np\n",
    "from sys import argv\n",
    "\n",
    "\n",
    "#file_fq_input_addrss= \"/work/FAC/FBM/DBC/cdessim2/default/smajidi1/recombination/archive/sample_22_hifi.fastq\"\n",
    "# file_fq_output_addrss = \"/work/FAC/FBM/DBC/cdessim2/default/smajidi1/recombination/r1a/p4/\"+\"_chopped.fastq\"\n",
    "\n",
    "file_fq_input_addrss =  argv[1]\n",
    "file_fq_output_addrss = argv[2]\n",
    "\n",
    "file_fq_input= open(file_fq_input_addrss,'r');\n",
    "file_fq_ouput= open(file_fq_output_addrss,'w');\n",
    "\n",
    "\n",
    "chunk_length = int(argv[3]) # 3000\n",
    "\n",
    "\n",
    "\n",
    "record = []\n",
    "for line in file_fq_input:\n",
    "    line_strip = line.strip()\n",
    "    # if line_strip.startswith(\"@\"):   # new recrod started \n",
    "    #    record = [read_name_new_record]\n",
    "        \n",
    "    if len(record)<4:\n",
    "        record.append(line_strip)\n",
    "    else:\n",
    "        read_name,sequence,pluse_line,quality  = record        \n",
    "        read_length = len(sequence)\n",
    "        if read_length != len(quality): \n",
    "            print(\"ERROR, length of sequence !=quality \",len(sequence), len(quality))\n",
    "        \n",
    "        chunk_num = int(read_length/chunk_length)\n",
    "        for chunk_i in range(chunk_num):\n",
    "            if chunk_i < chunk_num-1 :\n",
    "                sequence_i =  sequence[chunk_length*chunk_i:chunk_length*(chunk_i+1)]\n",
    "                quality_i  = quality[chunk_length*chunk_i:chunk_length*(chunk_i+1)]\n",
    "            else: \n",
    "                sequence_i =  sequence[chunk_length*chunk_i:]\n",
    "                quality_i  = quality[chunk_length*chunk_i:]\n",
    "            file_fq_ouput.write(read_name+\"_part_\"+str(chunk_i)+\"\\n\")\n",
    "            file_fq_ouput.write(sequence_i+\"\\n\"+pluse_line+\"\\n\"+quality_i+\"\\n\")\n",
    "\n",
    "\n",
    "        read_name_new_record=line_strip\n",
    "        record = [read_name_new_record]\n",
    "        \n",
    "        \n",
    "# last record \n",
    "read_name,sequence,pluse_line,quality  = record        \n",
    "read_length = len(sequence)\n",
    "chunk_num = int(read_length/chunk_length)\n",
    "for chunk_i in range(chunk_num):\n",
    "    if chunk_num  != chunk_i:\n",
    "        sequence_i =  sequence[chunk_length*chunk_i:chunk_length*(chunk_i+1)]\n",
    "        quality_i  = quality[chunk_length*chunk_i:chunk_length*(chunk_i+1)]\n",
    "    else: \n",
    "        sequence_i =  sequence[chunk_length*chunk_i:]\n",
    "        quality_i  = quality[chunk_length*chunk_i:]\n",
    "    file_fq_ouput.write(read_name+\"_part_\"+str(chunk_i)+\"\\n\")\n",
    "    file_fq_ouput.write(sequence_i+\"\\n\"+pluse_line+\"\\n\"+quality_i+\"\\n\")\n",
    "\n",
    "file_fq_input.close()\n",
    "file_fq_ouput.close()\n",
    "            \n",
    "print(\"The chopped version is in \",file_fq_output_addrss)\n",
    "    \n",
    "\n",
    "\n",
    "\n",
    "    "
   ]
  },
  {
   "cell_type": "code",
   "execution_count": null,
   "id": "2b533cc6",
   "metadata": {},
   "outputs": [],
   "source": []
  }
 ],
 "metadata": {
  "kernelspec": {
   "display_name": "Python 3",
   "language": "python",
   "name": "python3"
  },
  "language_info": {
   "codemirror_mode": {
    "name": "ipython",
    "version": 3
   },
   "file_extension": ".py",
   "mimetype": "text/x-python",
   "name": "python",
   "nbconvert_exporter": "python",
   "pygments_lexer": "ipython3",
   "version": "3.8.1"
  }
 },
 "nbformat": 4,
 "nbformat_minor": 5
}
